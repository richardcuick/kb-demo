{
 "cells": [
  {
   "cell_type": "markdown",
   "id": "98507f99",
   "metadata": {},
   "source": [
    "# C#示例"
   ]
  },
  {
   "cell_type": "code",
   "execution_count": 1,
   "id": "7f158efa",
   "metadata": {},
   "outputs": [
    {
     "data": {
      "text/html": [
       "\r\n",
       "<div>\r\n",
       "    <div id='dotnet-interactive-this-cell-6136.Microsoft.DotNet.Interactive.Http.HttpPort' style='display: none'>\r\n",
       "        The below script needs to be able to find the current output cell; this is an easy method to get it.\r\n",
       "    </div>\r\n",
       "    <script type='text/javascript'>\r\n",
       "async function probeAddresses(probingAddresses) {\r\n",
       "    function timeout(ms, promise) {\r\n",
       "        return new Promise(function (resolve, reject) {\r\n",
       "            setTimeout(function () {\r\n",
       "                reject(new Error('timeout'))\r\n",
       "            }, ms)\r\n",
       "            promise.then(resolve, reject)\r\n",
       "        })\r\n",
       "    }\r\n",
       "\r\n",
       "    if (Array.isArray(probingAddresses)) {\r\n",
       "        for (let i = 0; i < probingAddresses.length; i++) {\r\n",
       "\r\n",
       "            let rootUrl = probingAddresses[i];\r\n",
       "\r\n",
       "            if (!rootUrl.endsWith('/')) {\r\n",
       "                rootUrl = `${rootUrl}/`;\r\n",
       "            }\r\n",
       "\r\n",
       "            try {\r\n",
       "                let response = await timeout(1000, fetch(`${rootUrl}discovery`, {\r\n",
       "                    method: 'POST',\r\n",
       "                    cache: 'no-cache',\r\n",
       "                    mode: 'cors',\r\n",
       "                    timeout: 1000,\r\n",
       "                    headers: {\r\n",
       "                        'Content-Type': 'text/plain'\r\n",
       "                    },\r\n",
       "                    body: probingAddresses[i]\r\n",
       "                }));\r\n",
       "\r\n",
       "                if (response.status == 200) {\r\n",
       "                    return rootUrl;\r\n",
       "                }\r\n",
       "            }\r\n",
       "            catch (e) { }\r\n",
       "        }\r\n",
       "    }\r\n",
       "}\r\n",
       "\r\n",
       "function loadDotnetInteractiveApi() {\r\n",
       "    probeAddresses([\"http://172.19.32.1:2048/\", \"http://172.29.128.1:2048/\", \"http://127.0.0.1:2048/\"])\r\n",
       "        .then((root) => {\r\n",
       "        // use probing to find host url and api resources\r\n",
       "        // load interactive helpers and language services\r\n",
       "        let dotnetInteractiveRequire = require.config({\r\n",
       "        context: '6136.Microsoft.DotNet.Interactive.Http.HttpPort',\r\n",
       "                paths:\r\n",
       "            {\r\n",
       "                'dotnet-interactive': `${root}resources`\r\n",
       "                }\r\n",
       "        }) || require;\r\n",
       "\r\n",
       "            window.dotnetInteractiveRequire = dotnetInteractiveRequire;\r\n",
       "\r\n",
       "            window.configureRequireFromExtension = function(extensionName, extensionCacheBuster) {\r\n",
       "                let paths = {};\r\n",
       "                paths[extensionName] = `${root}extensions/${extensionName}/resources/`;\r\n",
       "                \r\n",
       "                let internalRequire = require.config({\r\n",
       "                    context: extensionCacheBuster,\r\n",
       "                    paths: paths,\r\n",
       "                    urlArgs: `cacheBuster=${extensionCacheBuster}`\r\n",
       "                    }) || require;\r\n",
       "\r\n",
       "                return internalRequire\r\n",
       "            };\r\n",
       "        \r\n",
       "            dotnetInteractiveRequire([\r\n",
       "                    'dotnet-interactive/dotnet-interactive'\r\n",
       "                ],\r\n",
       "                function (dotnet) {\r\n",
       "                    dotnet.init(window);\r\n",
       "                },\r\n",
       "                function (error) {\r\n",
       "                    console.log(error);\r\n",
       "                }\r\n",
       "            );\r\n",
       "        })\r\n",
       "        .catch(error => {console.log(error);});\r\n",
       "    }\r\n",
       "\r\n",
       "// ensure `require` is available globally\r\n",
       "if ((typeof(require) !==  typeof(Function)) || (typeof(require.config) !== typeof(Function))) {\r\n",
       "    let require_script = document.createElement('script');\r\n",
       "    require_script.setAttribute('src', 'https://cdnjs.cloudflare.com/ajax/libs/require.js/2.3.6/require.min.js');\r\n",
       "    require_script.setAttribute('type', 'text/javascript');\r\n",
       "    \r\n",
       "    \r\n",
       "    require_script.onload = function() {\r\n",
       "        loadDotnetInteractiveApi();\r\n",
       "    };\r\n",
       "\r\n",
       "    document.getElementsByTagName('head')[0].appendChild(require_script);\r\n",
       "}\r\n",
       "else {\r\n",
       "    loadDotnetInteractiveApi();\r\n",
       "}\r\n",
       "\r\n",
       "    </script>\r\n",
       "</div>"
      ]
     },
     "metadata": {},
     "output_type": "display_data"
    },
    {
     "data": {
      "text/html": [
       "<details open=\"open\" class=\"dni-treeview\"><summary><span class=\"dni-code-hint\"><code>Submission#3+Person</code></span></summary><div><table><thead><tr></tr></thead><tbody><tr><td>Title</td><td><div class=\"dni-plaintext\"><pre>Captain</pre></div></td></tr><tr><td>Name</td><td><div class=\"dni-plaintext\"><pre>Marvel</pre></div></td></tr></tbody></table></div></details><style>\r\n",
       ".dni-code-hint {\r\n",
       "    font-style: italic;\r\n",
       "    overflow: hidden;\r\n",
       "    white-space: nowrap;\r\n",
       "}\r\n",
       ".dni-treeview {\r\n",
       "    white-space: nowrap;\r\n",
       "}\r\n",
       ".dni-treeview td {\r\n",
       "    vertical-align: top;\r\n",
       "    text-align: start;\r\n",
       "}\r\n",
       "details.dni-treeview {\r\n",
       "    padding-left: 1em;\r\n",
       "}\r\n",
       "table td {\r\n",
       "    text-align: start;\r\n",
       "}\r\n",
       "table tr { \r\n",
       "    vertical-align: top; \r\n",
       "    margin: 0em 0px;\r\n",
       "}\r\n",
       "table tr td pre \r\n",
       "{ \r\n",
       "    vertical-align: top !important; \r\n",
       "    margin: 0em 0px !important;\r\n",
       "} \r\n",
       "table th {\r\n",
       "    text-align: start;\r\n",
       "}\r\n",
       "</style>"
      ]
     },
     "metadata": {},
     "output_type": "display_data"
    }
   ],
   "source": [
    "class Person\n",
    "{\n",
    "    public string Title {get;set;}\n",
    "    public string Name {get;set;}\n",
    "}\n",
    "display(new Person {Title = \"Captain\", Name = \"Marvel\"})"
   ]
  },
  {
   "cell_type": "code",
   "execution_count": 2,
   "id": "e2334058",
   "metadata": {},
   "outputs": [
    {
     "data": {
      "text/html": [
       "<table><thead><tr><th><i>index</i></th><th>value</th></tr></thead><tbody><tr><td>0</td><td><details class=\"dni-treeview\"><summary><span class=\"dni-code-hint\"><code>Submission#3+Person</code></span></summary><div><table><thead><tr></tr></thead><tbody><tr><td>Title</td><td><div class=\"dni-plaintext\"><pre>Captain</pre></div></td></tr><tr><td>Name</td><td><div class=\"dni-plaintext\"><pre>Marvel</pre></div></td></tr></tbody></table></div></details></td></tr><tr><td>1</td><td><details class=\"dni-treeview\"><summary><span class=\"dni-code-hint\"><code>Submission#3+Person</code></span></summary><div><table><thead><tr></tr></thead><tbody><tr><td>Title</td><td><div class=\"dni-plaintext\"><pre>General</pre></div></td></tr><tr><td>Name</td><td><div class=\"dni-plaintext\"><pre>Okoye</pre></div></td></tr></tbody></table></div></details></td></tr><tr><td>2</td><td><details class=\"dni-treeview\"><summary><span class=\"dni-code-hint\"><code>Submission#3+Person</code></span></summary><div><table><thead><tr></tr></thead><tbody><tr><td>Title</td><td><div class=\"dni-plaintext\"><pre>Team Lead</pre></div></td></tr><tr><td>Name</td><td><div class=\"dni-plaintext\"><pre>Romanova</pre></div></td></tr></tbody></table></div></details></td></tr><tr><td>3</td><td><details class=\"dni-treeview\"><summary><span class=\"dni-code-hint\"><code>Submission#3+Person</code></span></summary><div><table><thead><tr></tr></thead><tbody><tr><td>Title</td><td><div class=\"dni-plaintext\"><pre>Lead Engineer</pre></div></td></tr><tr><td>Name</td><td><div class=\"dni-plaintext\"><pre>Washington</pre></div></td></tr></tbody></table></div></details></td></tr></tbody></table><style>\r\n",
       ".dni-code-hint {\r\n",
       "    font-style: italic;\r\n",
       "    overflow: hidden;\r\n",
       "    white-space: nowrap;\r\n",
       "}\r\n",
       ".dni-treeview {\r\n",
       "    white-space: nowrap;\r\n",
       "}\r\n",
       ".dni-treeview td {\r\n",
       "    vertical-align: top;\r\n",
       "    text-align: start;\r\n",
       "}\r\n",
       "details.dni-treeview {\r\n",
       "    padding-left: 1em;\r\n",
       "}\r\n",
       "table td {\r\n",
       "    text-align: start;\r\n",
       "}\r\n",
       "table tr { \r\n",
       "    vertical-align: top; \r\n",
       "    margin: 0em 0px;\r\n",
       "}\r\n",
       "table tr td pre \r\n",
       "{ \r\n",
       "    vertical-align: top !important; \r\n",
       "    margin: 0em 0px !important;\r\n",
       "} \r\n",
       "table th {\r\n",
       "    text-align: start;\r\n",
       "}\r\n",
       "</style>"
      ]
     },
     "metadata": {},
     "output_type": "display_data"
    }
   ],
   "source": [
    "var groupofheroes = new []\n",
    "{\n",
    "    new Person {Title = \"Captain\", Name = \"Marvel\"},\n",
    "    new Person {Title = \"General\", Name = \"Okoye\"},\n",
    "    new Person {Title = \"Team Lead\", Name = \"Romanova\"},\n",
    "    new Person {Title = \"Lead Engineer\", Name= \"Washington\"}\n",
    "};\n",
    "display(groupofheroes);"
   ]
  },
  {
   "cell_type": "code",
   "execution_count": 4,
   "id": "5c260172",
   "metadata": {},
   "outputs": [
    {
     "data": {
      "text/html": [
       "<b style=\"color:#512bd4\">Hello!</b>"
      ]
     },
     "metadata": {},
     "output_type": "display_data"
    },
    {
     "name": "stderr",
     "output_type": "stream",
     "text": [
      "\r\n",
      "warning CS1701: 假定“Microsoft.DotNet.Interactive”使用的程序集引用“Microsoft.AspNetCore.Html.Abstractions, Version=2.2.0.0, Culture=neutral, PublicKeyToken=adb9793829ddae60”与“Microsoft.AspNetCore.Html.Abstractions”的标识“Microsoft.AspNetCore.Html.Abstractions, Version=8.0.0.0, Culture=neutral, PublicKeyToken=adb9793829ddae60”匹配，您可能需要提供运行时策略\r\n",
      "\r\n"
     ]
    }
   ],
   "source": [
    "display(HTML(\"<b style=\\\"color:#512bd4\\\">Hello!</b>\"));"
   ]
  },
  {
   "cell_type": "code",
   "execution_count": 6,
   "id": "0f6afe97",
   "metadata": {},
   "outputs": [
    {
     "name": "stderr",
     "output_type": "stream",
     "text": [
      "\r\n",
      "(1,1): error CS0006: 未能找到元数据文件“nuget:Octokit, 0.32.0”\r\n",
      "\r\n",
      "(2,1): error CS0006: 未能找到元数据文件“nuget:NodaTime, 2.4.6”\r\n",
      "\r\n",
      "(3,7): error CS0246: 未能找到类型或命名空间名“Octokit”(是否缺少 using 指令或程序集引用?)\r\n",
      "\r\n",
      "(3,22): error CS0246: 未能找到类型或命名空间名“NodaTime”(是否缺少 using 指令或程序集引用?)\r\n",
      "\r\n",
      "(4,7): error CS0246: 未能找到类型或命名空间名“NodaTime”(是否缺少 using 指令或程序集引用?)\r\n",
      "\r\n",
      "(5,7): error CS0246: 未能找到类型或命名空间名“XPlot”(是否缺少 using 指令或程序集引用?)\r\n",
      "\r\n"
     ]
    },
    {
     "ename": "Error",
     "evalue": "compilation error",
     "output_type": "error",
     "traceback": []
    }
   ],
   "source": [
    "# r \"nuget:Octokit, 0.32.0\"\n",
    "# r \"nuget:NodaTime, 2.4.6\"\n",
    "using Octokit; using NodaTime; \n",
    "using NodaTime.Extensions; \n",
    "using XPlot.Plotly; \n"
   ]
  },
  {
   "cell_type": "code",
   "execution_count": 7,
   "id": "ed5f834e",
   "metadata": {},
   "outputs": [
    {
     "data": {
      "text/html": [
       "<div><div></div><div></div><div><strong>Installed Packages</strong><ul><li><span>Plotly.NET, 2.0.0-preview.6</span></li><li><span>Plotly.NET.Interactive, 2.0.0-preview.6</span></li></ul></div></div>"
      ]
     },
     "metadata": {},
     "output_type": "display_data"
    },
    {
     "ename": "Error",
     "evalue": "System.IO.FileLoadException: Assembly with same name is already loaded\r\n   at System.Runtime.Loader.AssemblyLoadContext.LoadFromAssemblyPath(String assemblyPath)\r\n   at Microsoft.DotNet.Interactive.App.PackageDirectoryExtensionLoader.LoadFromAssemblyFile(FileInfo assemblyFile, Kernel kernel, KernelInvocationContext context) in D:\\a\\_work\\1\\s\\src\\dotnet-interactive\\PackageDirectoryExtensionLoader.cs:line 106\r\n   at Microsoft.DotNet.Interactive.App.PackageDirectoryExtensionLoader.LoadFromDllsInDirectoryAsync(DirectoryInfo directory, Kernel kernel, KernelInvocationContext context) in D:\\a\\_work\\1\\s\\src\\dotnet-interactive\\PackageDirectoryExtensionLoader.cs:line 85\r\n   at Microsoft.DotNet.Interactive.App.PackageDirectoryExtensionLoader.LoadFromDirectoryAsync(DirectoryInfo directory, Kernel kernel, KernelInvocationContext context) in D:\\a\\_work\\1\\s\\src\\dotnet-interactive\\PackageDirectoryExtensionLoader.cs:line 63\r\n   at Microsoft.DotNet.Interactive.App.KernelExtensionLoader.LoadExtensionsFromDirectoryAsync(CompositeKernel kernel, DirectoryInfo extensionDir, KernelInvocationContext context, TelemetrySender telemetrySender) in D:\\a\\_work\\1\\s\\src\\dotnet-interactive\\KernelExtensionLoader.cs:line 78\r\n   at Microsoft.DotNet.Interactive.App.KernelExtensionLoader.<>c__DisplayClass0_0.<<UseNuGetExtensions>b__0>d.MoveNext() in D:\\a\\_work\\1\\s\\src\\dotnet-interactive\\KernelExtensionLoader.cs:line 53\r\n--- End of stack trace from previous location ---\r\n   at Microsoft.DotNet.Interactive.KernelCommandPipeline.<>c__DisplayClass6_0.<<BuildPipeline>g__Combine|2>d.MoveNext() in D:\\a\\_work\\1\\s\\src\\Microsoft.DotNet.Interactive\\KernelCommandPipeline.cs:line 73\r\n--- End of stack trace from previous location ---\r\n   at Microsoft.DotNet.Interactive.KernelCommandPipeline.<>c__DisplayClass6_0.<<BuildPipeline>g__Combine|2>d.MoveNext() in D:\\a\\_work\\1\\s\\src\\Microsoft.DotNet.Interactive\\KernelCommandPipeline.cs:line 73\r\n--- End of stack trace from previous location ---\r\n   at Microsoft.DotNet.Interactive.KernelCommandPipeline.SendAsync(KernelCommand command, KernelInvocationContext context) in D:\\a\\_work\\1\\s\\src\\Microsoft.DotNet.Interactive\\KernelCommandPipeline.cs:line 41",
     "output_type": "error",
     "traceback": [
      "System.IO.FileLoadException: Assembly with same name is already loaded\r\n   at System.Runtime.Loader.AssemblyLoadContext.LoadFromAssemblyPath(String assemblyPath)\r\n   at Microsoft.DotNet.Interactive.App.PackageDirectoryExtensionLoader.LoadFromAssemblyFile(FileInfo assemblyFile, Kernel kernel, KernelInvocationContext context) in D:\\a\\_work\\1\\s\\src\\dotnet-interactive\\PackageDirectoryExtensionLoader.cs:line 106\r\n   at Microsoft.DotNet.Interactive.App.PackageDirectoryExtensionLoader.LoadFromDllsInDirectoryAsync(DirectoryInfo directory, Kernel kernel, KernelInvocationContext context) in D:\\a\\_work\\1\\s\\src\\dotnet-interactive\\PackageDirectoryExtensionLoader.cs:line 85\r\n   at Microsoft.DotNet.Interactive.App.PackageDirectoryExtensionLoader.LoadFromDirectoryAsync(DirectoryInfo directory, Kernel kernel, KernelInvocationContext context) in D:\\a\\_work\\1\\s\\src\\dotnet-interactive\\PackageDirectoryExtensionLoader.cs:line 63\r\n   at Microsoft.DotNet.Interactive.App.KernelExtensionLoader.LoadExtensionsFromDirectoryAsync(CompositeKernel kernel, DirectoryInfo extensionDir, KernelInvocationContext context, TelemetrySender telemetrySender) in D:\\a\\_work\\1\\s\\src\\dotnet-interactive\\KernelExtensionLoader.cs:line 78\r\n   at Microsoft.DotNet.Interactive.App.KernelExtensionLoader.<>c__DisplayClass0_0.<<UseNuGetExtensions>b__0>d.MoveNext() in D:\\a\\_work\\1\\s\\src\\dotnet-interactive\\KernelExtensionLoader.cs:line 53\r\n--- End of stack trace from previous location ---\r\n   at Microsoft.DotNet.Interactive.KernelCommandPipeline.<>c__DisplayClass6_0.<<BuildPipeline>g__Combine|2>d.MoveNext() in D:\\a\\_work\\1\\s\\src\\Microsoft.DotNet.Interactive\\KernelCommandPipeline.cs:line 73\r\n--- End of stack trace from previous location ---\r\n   at Microsoft.DotNet.Interactive.KernelCommandPipeline.<>c__DisplayClass6_0.<<BuildPipeline>g__Combine|2>d.MoveNext() in D:\\a\\_work\\1\\s\\src\\Microsoft.DotNet.Interactive\\KernelCommandPipeline.cs:line 73\r\n--- End of stack trace from previous location ---\r\n   at Microsoft.DotNet.Interactive.KernelCommandPipeline.SendAsync(KernelCommand command, KernelInvocationContext context) in D:\\a\\_work\\1\\s\\src\\Microsoft.DotNet.Interactive\\KernelCommandPipeline.cs:line 41",
      "   at System.Runtime.Loader.AssemblyLoadContext.LoadFromAssemblyPath(String assemblyPath)",
      "   at Microsoft.DotNet.Interactive.App.PackageDirectoryExtensionLoader.LoadFromAssemblyFile(FileInfo assemblyFile, Kernel kernel, KernelInvocationContext context) in D:\\a\\_work\\1\\s\\src\\dotnet-interactive\\PackageDirectoryExtensionLoader.cs:line 106",
      "   at Microsoft.DotNet.Interactive.App.PackageDirectoryExtensionLoader.LoadFromDllsInDirectoryAsync(DirectoryInfo directory, Kernel kernel, KernelInvocationContext context) in D:\\a\\_work\\1\\s\\src\\dotnet-interactive\\PackageDirectoryExtensionLoader.cs:line 85",
      "   at Microsoft.DotNet.Interactive.App.PackageDirectoryExtensionLoader.LoadFromDirectoryAsync(DirectoryInfo directory, Kernel kernel, KernelInvocationContext context) in D:\\a\\_work\\1\\s\\src\\dotnet-interactive\\PackageDirectoryExtensionLoader.cs:line 63",
      "   at Microsoft.DotNet.Interactive.App.KernelExtensionLoader.LoadExtensionsFromDirectoryAsync(CompositeKernel kernel, DirectoryInfo extensionDir, KernelInvocationContext context, TelemetrySender telemetrySender) in D:\\a\\_work\\1\\s\\src\\dotnet-interactive\\KernelExtensionLoader.cs:line 78",
      "   at Microsoft.DotNet.Interactive.App.KernelExtensionLoader.<>c__DisplayClass0_0.<<UseNuGetExtensions>b__0>d.MoveNext() in D:\\a\\_work\\1\\s\\src\\dotnet-interactive\\KernelExtensionLoader.cs:line 53",
      "--- End of stack trace from previous location ---",
      "   at Microsoft.DotNet.Interactive.KernelCommandPipeline.<>c__DisplayClass6_0.<<BuildPipeline>g__Combine|2>d.MoveNext() in D:\\a\\_work\\1\\s\\src\\Microsoft.DotNet.Interactive\\KernelCommandPipeline.cs:line 73",
      "--- End of stack trace from previous location ---",
      "   at Microsoft.DotNet.Interactive.KernelCommandPipeline.<>c__DisplayClass6_0.<<BuildPipeline>g__Combine|2>d.MoveNext() in D:\\a\\_work\\1\\s\\src\\Microsoft.DotNet.Interactive\\KernelCommandPipeline.cs:line 73",
      "--- End of stack trace from previous location ---",
      "   at Microsoft.DotNet.Interactive.KernelCommandPipeline.SendAsync(KernelCommand command, KernelInvocationContext context) in D:\\a\\_work\\1\\s\\src\\Microsoft.DotNet.Interactive\\KernelCommandPipeline.cs:line 41"
     ]
    }
   ],
   "source": [
    "#r \"nuget: Plotly.NET, 2.0.0-preview.6\"\n",
    "#r \"nuget: Plotly.NET.Interactive, 2.0.0-preview.6\"\n",
    "\n",
    "using Plotly.NET;\n",
    "\n",
    "var xData = response.Results.Select(x => x.Date).ToList();\n",
    "var yData = response.Results.Select(x => x.DailyVaccinations == null ? 0 : (decimal)(x.DailyVaccinations)).ToList();\n",
    "\n",
    "GenericChart.GenericChart chart = Chart.Point<DateTime,decimal, string>(x: xData, y: yData, Name: \"\");\n",
    "chart\n",
    "    .WithTraceName(\"Daily Vaccinations\", true)\n",
    "    .WithX_AxisStyle(title: \"Vaccinations\", Showgrid: false, Showline: true)\n",
    "    .WithY_AxisStyle(title: \"Date\", Showgrid: false, Showline: true);\n",
    "display(chart);"
   ]
  },
  {
   "cell_type": "code",
   "execution_count": 8,
   "id": "71c00b63",
   "metadata": {},
   "outputs": [
    {
     "name": "stderr",
     "output_type": "stream",
     "text": [
      "\r\n",
      "(3,13): error CS0103: 当前上下文中不存在名称“response”\r\n",
      "\r\n",
      "(4,13): error CS0103: 当前上下文中不存在名称“response”\r\n",
      "\r\n"
     ]
    },
    {
     "ename": "Error",
     "evalue": "compilation error",
     "output_type": "error",
     "traceback": []
    }
   ],
   "source": [
    "using Plotly.NET;\n",
    "\n",
    "var xData = response.Results.Select(x => x.Date).ToList();\n",
    "var yData = response.Results.Select(x => x.DailyVaccinations == null ? 0 : (decimal)(x.DailyVaccinations)).ToList();\n",
    "\n",
    "GenericChart.GenericChart chart = Chart.Point<DateTime,decimal, string>(x: xData, y: yData, Name: \"\");\n",
    "chart\n",
    "    .WithTraceName(\"Daily Vaccinations\", true)\n",
    "    .WithX_AxisStyle(title: \"Vaccinations\", Showgrid: false, Showline: true)\n",
    "    .WithY_AxisStyle(title: \"Date\", Showgrid: false, Showline: true);\n",
    "display(chart);"
   ]
  },
  {
   "cell_type": "code",
   "execution_count": 11,
   "id": "f0d24144",
   "metadata": {},
   "outputs": [
    {
     "name": "stderr",
     "output_type": "stream",
     "text": [
      "\r\n",
      "(2,18): error CS0234: 命名空间“Plotly.NET”中不存在类型或命名空间名“CSharp”(是否缺少程序集引用?)\r\n",
      "\r\n",
      "(4,1): error CS0103: 当前上下文中不存在名称“Chart”\r\n",
      "\r\n",
      "(9,48): error CS0234: 命名空间“Plotly.NET”中不存在类型或命名空间名“Title”(是否缺少程序集引用?)\r\n",
      "\r\n",
      "(10,48): error CS0234: 命名空间“Plotly.NET”中不存在类型或命名空间名“Title”(是否缺少程序集引用?)\r\n",
      "\r\n"
     ]
    },
    {
     "ename": "Error",
     "evalue": "compilation error",
     "output_type": "error",
     "traceback": []
    }
   ],
   "source": [
    "using System;\n",
    "using Plotly.NET.CSharp;\n",
    "\n",
    "Chart.Point<double, double, string>(\n",
    "    x: new double[] { 1, 2 }, \n",
    "    y: new double[] { 5, 10 }\n",
    ")\n",
    ".WithTraceInfo(\"Hello from C#\", ShowLegend: true)\n",
    ".WithXAxisStyle<double, double, string>(Title: Plotly.NET.Title.init(\"xAxis\"))\n",
    ".WithYAxisStyle<double, double, string>(Title: Plotly.NET.Title.init(\"yAxis\"))\n",
    ".Show();"
   ]
  },
  {
   "cell_type": "code",
   "execution_count": 12,
   "id": "13f7f542",
   "metadata": {},
   "outputs": [
    {
     "name": "stderr",
     "output_type": "stream",
     "text": [
      "\r\n",
      "(3,18): error CS0234: 命名空间“Plotly.NET”中不存在类型或命名空间名“LayoutObjects”(是否缺少程序集引用?)\r\n",
      "\r\n",
      "(8,1): error CS0246: 未能找到类型或命名空间名“LinearAxis”(是否缺少 using 指令或程序集引用?)\r\n",
      "\r\n",
      "(13,1): error CS0246: 未能找到类型或命名空间名“LinearAxis”(是否缺少 using 指令或程序集引用?)\r\n",
      "\r\n",
      "(8,24): error CS0246: 未能找到类型或命名空间名“LinearAxis”(是否缺少 using 指令或程序集引用?)\r\n",
      "\r\n",
      "(13,24): error CS0246: 未能找到类型或命名空间名“LinearAxis”(是否缺少 using 指令或程序集引用?)\r\n",
      "\r\n",
      "(30,6): error CS1501: “ofTraceObject”方法没有采用 2 个参数的重载\r\n",
      "\r\n"
     ]
    },
    {
     "ename": "Error",
     "evalue": "compilation error",
     "output_type": "error",
     "traceback": []
    }
   ],
   "source": [
    "using System;\n",
    "using Plotly.NET;\n",
    "using Plotly.NET.LayoutObjects;\n",
    "\n",
    "double[] x = new double[] { 1, 2 };\n",
    "double[] y = new double[] { 5, 10 };\n",
    "\n",
    "LinearAxis xAxis = new LinearAxis();\n",
    "xAxis.SetValue(\"title\", \"xAxis\");\n",
    "xAxis.SetValue(\"showgrid\", false);\n",
    "xAxis.SetValue(\"showline\", true);\n",
    "\n",
    "LinearAxis yAxis = new LinearAxis();\n",
    "yAxis.SetValue(\"title\", \"yAxis\");\n",
    "yAxis.SetValue(\"showgrid\", false);\n",
    "yAxis.SetValue(\"showline\", true);\n",
    "\n",
    "Layout layout = new Layout();\n",
    "layout.SetValue(\"xaxis\", xAxis);\n",
    "layout.SetValue(\"yaxis\", yAxis);\n",
    "layout.SetValue(\"showlegend\", true);\n",
    "\n",
    "Trace trace = new Trace(\"scatter\");\n",
    "trace.SetValue(\"x\", x);\n",
    "trace.SetValue(\"y\", y);\n",
    "trace.SetValue(\"mode\", \"markers\");\n",
    "trace.SetValue(\"name\", \"Hello from C#\");\n",
    "\n",
    "GenericChart\n",
    "    .ofTraceObject(true, trace)\n",
    "    .WithLayout(layout)\n",
    "    .Show();"
   ]
  },
  {
   "cell_type": "code",
   "execution_count": 13,
   "id": "9b52b609",
   "metadata": {},
   "outputs": [
    {
     "data": {
      "text/html": [
       "<div><div></div><div></div><div><strong>Installed Packages</strong><ul><li><span>XPlot.Plotly, 4.0.6</span></li><li><span>XPlot.Plotly.Interactive, 4.0.7</span></li></ul></div></div>"
      ]
     },
     "metadata": {},
     "output_type": "display_data"
    },
    {
     "data": {
      "text/plain": [
       "Loading extensions from `C:\\Users\\richa\\.nuget\\packages\\xplot.plotly.interactive\\4.0.7\\lib\\net7.0\\XPlot.Plotly.Interactive.dll`"
      ]
     },
     "metadata": {},
     "output_type": "display_data"
    },
    {
     "data": {
      "text/markdown": [
       "Configuring PowerShell Kernel for XPlot.Plotly integration."
      ]
     },
     "metadata": {},
     "output_type": "display_data"
    },
    {
     "data": {
      "text/markdown": [
       "Installed support for XPlot.Plotly."
      ]
     },
     "metadata": {},
     "output_type": "display_data"
    }
   ],
   "source": [
    "#r \"nuget: XPlot.Plotly\"\n",
    "#r \"nuget: XPlot.Plotly.Interactive\""
   ]
  },
  {
   "cell_type": "code",
   "execution_count": 15,
   "id": "6ee8e63a",
   "metadata": {},
   "outputs": [
    {
     "name": "stderr",
     "output_type": "stream",
     "text": [
      "\r\n",
      "(6,13): error CS0103: 当前上下文中不存在名称“houses”\r\n",
      "\r\n",
      "(7,13): error CS0103: 当前上下文中不存在名称“houses”\r\n",
      "\r\n",
      "(11,21): error CS0103: 当前上下文中不存在名称“houses”\r\n",
      "\r\n"
     ]
    },
    {
     "ename": "Error",
     "evalue": "compilation error",
     "output_type": "error",
     "traceback": []
    }
   ],
   "source": [
    "using XPlot.Plotly;\n",
    "\n",
    "var chart = Chart.Plot(\n",
    "    new Scattergl() // remove Graph.\n",
    "    {\n",
    "        x = houses.Select(v => v.Longitude),\n",
    "        y = houses.Select(v => v.Latitude),\n",
    "        mode = \"markers\",\n",
    "        marker = new Marker() // remove Graph.\n",
    "        {\n",
    "            color = houses.Select(v => v.MedianHouseValue),\n",
    "            colorscale = \"Jet\"\n",
    "        }\n",
    "    }\n",
    ");\n",
    "chart.WithXTitle(\"Longitude\");\n",
    "chart.WithYTitle(\"Latitude\");\n",
    "chart.WithTitle(\"Median house value by location\");\n",
    "chart.Width = 600;\n",
    "chart.Height = 600;\n",
    "chart // no display call"
   ]
  },
  {
   "cell_type": "code",
   "execution_count": 16,
   "id": "02b5871d",
   "metadata": {},
   "outputs": [
    {
     "data": {
      "text/html": [
       "<div><div></div><div></div><div><strong>Installed Packages</strong><ul><li><span>Microsoft.Data.Analysis, 0.4.0</span></li></ul></div></div>"
      ]
     },
     "metadata": {},
     "output_type": "display_data"
    }
   ],
   "source": [
    "#r \"nuget:Microsoft.Data.Analysis,0.4.0\""
   ]
  },
  {
   "cell_type": "code",
   "execution_count": 18,
   "id": "0acf6a27",
   "metadata": {},
   "outputs": [
    {
     "name": "stderr",
     "output_type": "stream",
     "text": [
      "\r\n",
      "(3,1): error CS0103: 当前上下文中不存在名称“Formatter”\r\n",
      "\r\n",
      "(30,1): error CS0103: 当前上下文中不存在名称“Formatter”\r\n",
      "\r\n"
     ]
    },
    {
     "ename": "Error",
     "evalue": "compilation error",
     "output_type": "error",
     "traceback": []
    }
   ],
   "source": [
    "using Microsoft.Data.Analysis;\n",
    "\n",
    "Formatter<DataFrame>.Register((df, writer) =>\n",
    "{\n",
    "    var headers = new List<IHtmlContent>();\n",
    "    headers.Add(th(i(\"index\")));\n",
    "    headers.AddRange(df.Columns.Select(c => (IHtmlContent) th(c.Name)));\n",
    "    var rows = new List<List<IHtmlContent>>();\n",
    "    var take = 100;\n",
    "    for (var i = 0; i < Math.Min(take, df.Rows.Count); i++)\n",
    "    {\n",
    "        var cells = new List<IHtmlContent>();\n",
    "        cells.Add(td(i));\n",
    "        foreach (var obj in df.Rows[i])\n",
    "        {\n",
    "            cells.Add(td(obj));\n",
    "        }\n",
    "        rows.Add(cells);\n",
    "    } \n",
    "    var t = table(\n",
    "        thead(\n",
    "            headers),\n",
    "        tbody(\n",
    "            rows.Select(\n",
    "                r => tr(r))));\n",
    "    writer.Write(t);    \n",
    "    writer.Write(df.Rows.Count + \" x \"+df.Columns.Count);\n",
    "}, \"text/html\");\n",
    " \n",
    "Formatter<DataFrameRow>.Register((dataFrameRow, writer) =>\n",
    "{\n",
    "    var cells = new List<IHtmlContent>();\n",
    "    cells.Add(td(i));\n",
    "    foreach (var obj in dataFrameRow)\n",
    "    {\n",
    "        cells.Add(td(obj));\n",
    "    }\n",
    "    var t = table(\n",
    "        tbody(\n",
    "            cells));\n",
    "    writer.Write(t);\n",
    "}, \"text/html\");"
   ]
  },
  {
   "cell_type": "code",
   "execution_count": 20,
   "id": "dbf398dd",
   "metadata": {},
   "outputs": [
    {
     "data": {
      "text/html": [
       "<details open=\"open\" class=\"dni-treeview\"><summary><span class=\"dni-code-hint\"><code>DateData\\r\\n2009/1/1 0:00:0020  \\r\\n2009/1/2 0:00:009   \\r\\n2009/1/3 0:00:0085  \\r\\n2009/1/4 0:00:0020  \\r\\n2009/1/5 0:00:0011  \\r\\n2009/1/6 0:00:0019  \\r\\n2009/1/7 0:00:0092  \\r\\n2009/1/8 0:00:0080  \\r\\n2009/1/9 0:00:0095  \\r\\n2009/1/10 0:00:0046  \\r\\n2009/1/11 0:00:0092  \\r\\n2009/1/12 0:00:0023  \\...</code></span></summary><div><table><thead><tr></tr></thead><tbody><tr><td>Columns</td><td><table><thead><tr><th><i>index</i></th><th><i>type</i></th><th>value</th></tr></thead><tbody><tr><td>0</td><td><span><a href=\"https://docs.microsoft.com/dotnet/api/microsoft.data.analysis.primitivedataframecolumn-1?view=net-7.0\">Microsoft.Data.Analysis.PrimitiveDataFrameColumn&lt;System.DateTime&gt;</a></span></td><td><details class=\"dni-treeview\"><summary><span class=\"dni-code-hint\"><code>[ 2009/1/1 0:00:00, 2009/1/2 0:00:00, 2009/1/3 0:00:00, 2009/1/4 0:00:00, 2009/1/5 0:00:00, 2009/1/6 0:00:00, 2009/1/7 0:00:00, 2009/1/8 0:00:00, 2009/1/9 0:00:00, 2009/1/10 0:00:00, 2009/1/11 0:00:00, 2009/1/12 0:00:00, 2009/1/13 0:00:00, 2009/1/14 0:00:00, 2009/1/15 0:00:00, 2009/1/16 0:00:00, 2009/1/17 0:00:00, 2009/1/18 0:00:00, 2009/1/19 0:00:00, 2009/1/20 0:00:00 ... (more) ]</code></span></summary><div><table><thead><tr></tr></thead><tbody><tr><td>NullCount</td><td><div class=\"dni-plaintext\"><pre>0</pre></div></td></tr><tr><td>Length</td><td><div class=\"dni-plaintext\"><pre>200</pre></div></td></tr><tr><td>Name</td><td><div class=\"dni-plaintext\"><pre>Date</pre></div></td></tr><tr><td>DataType</td><td><span><a href=\"https://docs.microsoft.com/dotnet/api/system.datetime?view=net-7.0\">System.DateTime</a></span></td></tr><tr><td><i>(values)</i></td><td><div class=\"dni-plaintext\"><pre>[ 2009/1/1 0:00:00, 2009/1/2 0:00:00, 2009/1/3 0:00:00, 2009/1/4 0:00:00, 2009/1/5 0:00:00, 2009/1/6 0:00:00, 2009/1/7 0:00:00, 2009/1/8 0:00:00, 2009/1/9 0:00:00, 2009/1/10 0:00:00, 2009/1/11 0:00:00, 2009/1/12 0:00:00, 2009/1/13 0:00:00, 2009/1/14 0:00:00, 2009/1/15 0:00:00, 2009/1/16 0:00:00, 2009/1/17 0:00:00, 2009/1/18 0:00:00, 2009/1/19 0:00:00, 2009/1/20 0:00:00 ... (more) ]</pre></div></td></tr></tbody></table></div></details></td></tr><tr><td>1</td><td><span><a href=\"https://docs.microsoft.com/dotnet/api/microsoft.data.analysis.primitivedataframecolumn-1?view=net-7.0\">Microsoft.Data.Analysis.PrimitiveDataFrameColumn&lt;System.Int32&gt;</a></span></td><td><details class=\"dni-treeview\"><summary><span class=\"dni-code-hint\"><code>[ 20, 9, 85, 20, 11, 19, 92, 80, 95, 46, 92, 23, 42, 46, 24, 67, 51, 17, 97, 51 ... (more) ]</code></span></summary><div><table><thead><tr></tr></thead><tbody><tr><td>NullCount</td><td><div class=\"dni-plaintext\"><pre>0</pre></div></td></tr><tr><td>Length</td><td><div class=\"dni-plaintext\"><pre>200</pre></div></td></tr><tr><td>Name</td><td><div class=\"dni-plaintext\"><pre>Data</pre></div></td></tr><tr><td>DataType</td><td><span><a href=\"https://docs.microsoft.com/dotnet/api/system.int32?view=net-7.0\">System.Int32</a></span></td></tr><tr><td><i>(values)</i></td><td><div class=\"dni-plaintext\"><pre>[ 20, 9, 85, 20, 11, 19, 92, 80, 95, 46, 92, 23, 42, 46, 24, 67, 51, 17, 97, 51 ... (more) ]</pre></div></td></tr></tbody></table></div></details></td></tr></tbody></table></td></tr><tr><td>Rows</td><td><details class=\"dni-treeview\"><summary><span class=\"dni-code-hint\"><code>[ [ 2009/1/1 0:00:00, 20 ], [ 2009/1/2 0:00:00, 9 ], [ 2009/1/3 0:00:00, 85 ], [ 2009/1/4 0:00:00, 20 ], [ 2009/1/5 0:00:00, 11 ], [ 2009/1/6 0:00:00, 19 ], [ 2009/1/7 0:00:00, 92 ], [ 2009/1/8 0:00:00, 80 ], [ 2009/1/9 0:00:00, 95 ], [ 2009/1/10 0:00:00, 46 ], [ 2009/1/11 0:00:00, 92 ], [ 2009/1/12 0:00:00, 23 ], [ 2009/1/13 0:00:00, 42 ], [ 2009/1/14 0:00:00, 46 ], [ 2009/1/15 0:00:00, 24 ], [ 2009/1/16 0:00:00, 67 ], [ 2009/1/17 0:00:00, 51 ], [ 2009/1/18 0:00:00, 17 ], [ 2009/1/19 0:00:00, 97 ], [ 2009/1/20 0:00:00, 51 ] ... (more) ]</code></span></summary><div><table><thead><tr></tr></thead><tbody><tr><td>Count</td><td><div class=\"dni-plaintext\"><pre>200</pre></div></td></tr><tr><td><i>(values)</i></td><td><table><thead><tr><th><i>index</i></th><th>value</th></tr></thead><tbody><tr><td>0</td><td><details class=\"dni-treeview\"><summary><span class=\"dni-code-hint\"><code>[ 2009/1/1 0:00:00, 20 ]</code></span></summary><div><table><thead><tr></tr></thead><tbody><tr><td><i>(values)</i></td><td><table><thead><tr><th><i>index</i></th><th><i>type</i></th><th>value</th></tr></thead><tbody><tr><td>0</td><td><span><a href=\"https://docs.microsoft.com/dotnet/api/system.datetime?view=net-7.0\">System.DateTime</a></span></td><td><span>2009-01-01 00:00:00Z</span></td></tr><tr><td>1</td><td><span><a href=\"https://docs.microsoft.com/dotnet/api/system.int32?view=net-7.0\">System.Int32</a></span></td><td><div class=\"dni-plaintext\"><pre>20</pre></div></td></tr></tbody></table></td></tr></tbody></table></div></details></td></tr><tr><td>1</td><td><details class=\"dni-treeview\"><summary><span class=\"dni-code-hint\"><code>[ 2009/1/2 0:00:00, 9 ]</code></span></summary><div><table><thead><tr></tr></thead><tbody><tr><td><i>(values)</i></td><td><table><thead><tr><th><i>index</i></th><th><i>type</i></th><th>value</th></tr></thead><tbody><tr><td>0</td><td><span><a href=\"https://docs.microsoft.com/dotnet/api/system.datetime?view=net-7.0\">System.DateTime</a></span></td><td><span>2009-01-02 00:00:00Z</span></td></tr><tr><td>1</td><td><span><a href=\"https://docs.microsoft.com/dotnet/api/system.int32?view=net-7.0\">System.Int32</a></span></td><td><div class=\"dni-plaintext\"><pre>9</pre></div></td></tr></tbody></table></td></tr></tbody></table></div></details></td></tr><tr><td>2</td><td><details class=\"dni-treeview\"><summary><span class=\"dni-code-hint\"><code>[ 2009/1/3 0:00:00, 85 ]</code></span></summary><div><table><thead><tr></tr></thead><tbody><tr><td><i>(values)</i></td><td><table><thead><tr><th><i>index</i></th><th><i>type</i></th><th>value</th></tr></thead><tbody><tr><td>0</td><td><span><a href=\"https://docs.microsoft.com/dotnet/api/system.datetime?view=net-7.0\">System.DateTime</a></span></td><td><span>2009-01-03 00:00:00Z</span></td></tr><tr><td>1</td><td><span><a href=\"https://docs.microsoft.com/dotnet/api/system.int32?view=net-7.0\">System.Int32</a></span></td><td><div class=\"dni-plaintext\"><pre>85</pre></div></td></tr></tbody></table></td></tr></tbody></table></div></details></td></tr><tr><td>3</td><td><details class=\"dni-treeview\"><summary><span class=\"dni-code-hint\"><code>[ 2009/1/4 0:00:00, 20 ]</code></span></summary><div><table><thead><tr></tr></thead><tbody><tr><td><i>(values)</i></td><td><table><thead><tr><th><i>index</i></th><th><i>type</i></th><th>value</th></tr></thead><tbody><tr><td>0</td><td><span><a href=\"https://docs.microsoft.com/dotnet/api/system.datetime?view=net-7.0\">System.DateTime</a></span></td><td><span>2009-01-04 00:00:00Z</span></td></tr><tr><td>1</td><td><span><a href=\"https://docs.microsoft.com/dotnet/api/system.int32?view=net-7.0\">System.Int32</a></span></td><td><div class=\"dni-plaintext\"><pre>20</pre></div></td></tr></tbody></table></td></tr></tbody></table></div></details></td></tr><tr><td>4</td><td><details class=\"dni-treeview\"><summary><span class=\"dni-code-hint\"><code>[ 2009/1/5 0:00:00, 11 ]</code></span></summary><div><table><thead><tr></tr></thead><tbody><tr><td><i>(values)</i></td><td><table><thead><tr><th><i>index</i></th><th><i>type</i></th><th>value</th></tr></thead><tbody><tr><td>0</td><td><span><a href=\"https://docs.microsoft.com/dotnet/api/system.datetime?view=net-7.0\">System.DateTime</a></span></td><td><span>2009-01-05 00:00:00Z</span></td></tr><tr><td>1</td><td><span><a href=\"https://docs.microsoft.com/dotnet/api/system.int32?view=net-7.0\">System.Int32</a></span></td><td><div class=\"dni-plaintext\"><pre>11</pre></div></td></tr></tbody></table></td></tr></tbody></table></div></details></td></tr><tr><td>5</td><td><details class=\"dni-treeview\"><summary><span class=\"dni-code-hint\"><code>[ 2009/1/6 0:00:00, 19 ]</code></span></summary><div><table><thead><tr></tr></thead><tbody><tr><td><i>(values)</i></td><td><table><thead><tr><th><i>index</i></th><th><i>type</i></th><th>value</th></tr></thead><tbody><tr><td>0</td><td><span><a href=\"https://docs.microsoft.com/dotnet/api/system.datetime?view=net-7.0\">System.DateTime</a></span></td><td><span>2009-01-06 00:00:00Z</span></td></tr><tr><td>1</td><td><span><a href=\"https://docs.microsoft.com/dotnet/api/system.int32?view=net-7.0\">System.Int32</a></span></td><td><div class=\"dni-plaintext\"><pre>19</pre></div></td></tr></tbody></table></td></tr></tbody></table></div></details></td></tr><tr><td>6</td><td><details class=\"dni-treeview\"><summary><span class=\"dni-code-hint\"><code>[ 2009/1/7 0:00:00, 92 ]</code></span></summary><div><table><thead><tr></tr></thead><tbody><tr><td><i>(values)</i></td><td><table><thead><tr><th><i>index</i></th><th><i>type</i></th><th>value</th></tr></thead><tbody><tr><td>0</td><td><span><a href=\"https://docs.microsoft.com/dotnet/api/system.datetime?view=net-7.0\">System.DateTime</a></span></td><td><span>2009-01-07 00:00:00Z</span></td></tr><tr><td>1</td><td><span><a href=\"https://docs.microsoft.com/dotnet/api/system.int32?view=net-7.0\">System.Int32</a></span></td><td><div class=\"dni-plaintext\"><pre>92</pre></div></td></tr></tbody></table></td></tr></tbody></table></div></details></td></tr><tr><td>7</td><td><details class=\"dni-treeview\"><summary><span class=\"dni-code-hint\"><code>[ 2009/1/8 0:00:00, 80 ]</code></span></summary><div><table><thead><tr></tr></thead><tbody><tr><td><i>(values)</i></td><td><table><thead><tr><th><i>index</i></th><th><i>type</i></th><th>value</th></tr></thead><tbody><tr><td>0</td><td><span><a href=\"https://docs.microsoft.com/dotnet/api/system.datetime?view=net-7.0\">System.DateTime</a></span></td><td><span>2009-01-08 00:00:00Z</span></td></tr><tr><td>1</td><td><span><a href=\"https://docs.microsoft.com/dotnet/api/system.int32?view=net-7.0\">System.Int32</a></span></td><td><div class=\"dni-plaintext\"><pre>80</pre></div></td></tr></tbody></table></td></tr></tbody></table></div></details></td></tr><tr><td>8</td><td><details class=\"dni-treeview\"><summary><span class=\"dni-code-hint\"><code>[ 2009/1/9 0:00:00, 95 ]</code></span></summary><div><table><thead><tr></tr></thead><tbody><tr><td><i>(values)</i></td><td><table><thead><tr><th><i>index</i></th><th><i>type</i></th><th>value</th></tr></thead><tbody><tr><td>0</td><td><span><a href=\"https://docs.microsoft.com/dotnet/api/system.datetime?view=net-7.0\">System.DateTime</a></span></td><td><span>2009-01-09 00:00:00Z</span></td></tr><tr><td>1</td><td><span><a href=\"https://docs.microsoft.com/dotnet/api/system.int32?view=net-7.0\">System.Int32</a></span></td><td><div class=\"dni-plaintext\"><pre>95</pre></div></td></tr></tbody></table></td></tr></tbody></table></div></details></td></tr><tr><td>9</td><td><details class=\"dni-treeview\"><summary><span class=\"dni-code-hint\"><code>[ 2009/1/10 0:00:00, 46 ]</code></span></summary><div><table><thead><tr></tr></thead><tbody><tr><td><i>(values)</i></td><td><table><thead><tr><th><i>index</i></th><th><i>type</i></th><th>value</th></tr></thead><tbody><tr><td>0</td><td><span><a href=\"https://docs.microsoft.com/dotnet/api/system.datetime?view=net-7.0\">System.DateTime</a></span></td><td><span>2009-01-10 00:00:00Z</span></td></tr><tr><td>1</td><td><span><a href=\"https://docs.microsoft.com/dotnet/api/system.int32?view=net-7.0\">System.Int32</a></span></td><td><div class=\"dni-plaintext\"><pre>46</pre></div></td></tr></tbody></table></td></tr></tbody></table></div></details></td></tr><tr><td>10</td><td><details class=\"dni-treeview\"><summary><span class=\"dni-code-hint\"><code>[ 2009/1/11 0:00:00, 92 ]</code></span></summary><div><table><thead><tr></tr></thead><tbody><tr><td><i>(values)</i></td><td><table><thead><tr><th><i>index</i></th><th><i>type</i></th><th>value</th></tr></thead><tbody><tr><td>0</td><td><span><a href=\"https://docs.microsoft.com/dotnet/api/system.datetime?view=net-7.0\">System.DateTime</a></span></td><td><span>2009-01-11 00:00:00Z</span></td></tr><tr><td>1</td><td><span><a href=\"https://docs.microsoft.com/dotnet/api/system.int32?view=net-7.0\">System.Int32</a></span></td><td><div class=\"dni-plaintext\"><pre>92</pre></div></td></tr></tbody></table></td></tr></tbody></table></div></details></td></tr><tr><td>11</td><td><details class=\"dni-treeview\"><summary><span class=\"dni-code-hint\"><code>[ 2009/1/12 0:00:00, 23 ]</code></span></summary><div><table><thead><tr></tr></thead><tbody><tr><td><i>(values)</i></td><td><table><thead><tr><th><i>index</i></th><th><i>type</i></th><th>value</th></tr></thead><tbody><tr><td>0</td><td><span><a href=\"https://docs.microsoft.com/dotnet/api/system.datetime?view=net-7.0\">System.DateTime</a></span></td><td><span>2009-01-12 00:00:00Z</span></td></tr><tr><td>1</td><td><span><a href=\"https://docs.microsoft.com/dotnet/api/system.int32?view=net-7.0\">System.Int32</a></span></td><td><div class=\"dni-plaintext\"><pre>23</pre></div></td></tr></tbody></table></td></tr></tbody></table></div></details></td></tr><tr><td>12</td><td><details class=\"dni-treeview\"><summary><span class=\"dni-code-hint\"><code>[ 2009/1/13 0:00:00, 42 ]</code></span></summary><div><table><thead><tr></tr></thead><tbody><tr><td><i>(values)</i></td><td><table><thead><tr><th><i>index</i></th><th><i>type</i></th><th>value</th></tr></thead><tbody><tr><td>0</td><td><span><a href=\"https://docs.microsoft.com/dotnet/api/system.datetime?view=net-7.0\">System.DateTime</a></span></td><td><span>2009-01-13 00:00:00Z</span></td></tr><tr><td>1</td><td><span><a href=\"https://docs.microsoft.com/dotnet/api/system.int32?view=net-7.0\">System.Int32</a></span></td><td><div class=\"dni-plaintext\"><pre>42</pre></div></td></tr></tbody></table></td></tr></tbody></table></div></details></td></tr><tr><td>13</td><td><details class=\"dni-treeview\"><summary><span class=\"dni-code-hint\"><code>[ 2009/1/14 0:00:00, 46 ]</code></span></summary><div><table><thead><tr></tr></thead><tbody><tr><td><i>(values)</i></td><td><table><thead><tr><th><i>index</i></th><th><i>type</i></th><th>value</th></tr></thead><tbody><tr><td>0</td><td><span><a href=\"https://docs.microsoft.com/dotnet/api/system.datetime?view=net-7.0\">System.DateTime</a></span></td><td><span>2009-01-14 00:00:00Z</span></td></tr><tr><td>1</td><td><span><a href=\"https://docs.microsoft.com/dotnet/api/system.int32?view=net-7.0\">System.Int32</a></span></td><td><div class=\"dni-plaintext\"><pre>46</pre></div></td></tr></tbody></table></td></tr></tbody></table></div></details></td></tr><tr><td>14</td><td><details class=\"dni-treeview\"><summary><span class=\"dni-code-hint\"><code>[ 2009/1/15 0:00:00, 24 ]</code></span></summary><div><table><thead><tr></tr></thead><tbody><tr><td><i>(values)</i></td><td><table><thead><tr><th><i>index</i></th><th><i>type</i></th><th>value</th></tr></thead><tbody><tr><td>0</td><td><span><a href=\"https://docs.microsoft.com/dotnet/api/system.datetime?view=net-7.0\">System.DateTime</a></span></td><td><span>2009-01-15 00:00:00Z</span></td></tr><tr><td>1</td><td><span><a href=\"https://docs.microsoft.com/dotnet/api/system.int32?view=net-7.0\">System.Int32</a></span></td><td><div class=\"dni-plaintext\"><pre>24</pre></div></td></tr></tbody></table></td></tr></tbody></table></div></details></td></tr><tr><td>15</td><td><details class=\"dni-treeview\"><summary><span class=\"dni-code-hint\"><code>[ 2009/1/16 0:00:00, 67 ]</code></span></summary><div><table><thead><tr></tr></thead><tbody><tr><td><i>(values)</i></td><td><table><thead><tr><th><i>index</i></th><th><i>type</i></th><th>value</th></tr></thead><tbody><tr><td>0</td><td><span><a href=\"https://docs.microsoft.com/dotnet/api/system.datetime?view=net-7.0\">System.DateTime</a></span></td><td><span>2009-01-16 00:00:00Z</span></td></tr><tr><td>1</td><td><span><a href=\"https://docs.microsoft.com/dotnet/api/system.int32?view=net-7.0\">System.Int32</a></span></td><td><div class=\"dni-plaintext\"><pre>67</pre></div></td></tr></tbody></table></td></tr></tbody></table></div></details></td></tr><tr><td>16</td><td><details class=\"dni-treeview\"><summary><span class=\"dni-code-hint\"><code>[ 2009/1/17 0:00:00, 51 ]</code></span></summary><div><table><thead><tr></tr></thead><tbody><tr><td><i>(values)</i></td><td><table><thead><tr><th><i>index</i></th><th><i>type</i></th><th>value</th></tr></thead><tbody><tr><td>0</td><td><span><a href=\"https://docs.microsoft.com/dotnet/api/system.datetime?view=net-7.0\">System.DateTime</a></span></td><td><span>2009-01-17 00:00:00Z</span></td></tr><tr><td>1</td><td><span><a href=\"https://docs.microsoft.com/dotnet/api/system.int32?view=net-7.0\">System.Int32</a></span></td><td><div class=\"dni-plaintext\"><pre>51</pre></div></td></tr></tbody></table></td></tr></tbody></table></div></details></td></tr><tr><td>17</td><td><details class=\"dni-treeview\"><summary><span class=\"dni-code-hint\"><code>[ 2009/1/18 0:00:00, 17 ]</code></span></summary><div><table><thead><tr></tr></thead><tbody><tr><td><i>(values)</i></td><td><table><thead><tr><th><i>index</i></th><th><i>type</i></th><th>value</th></tr></thead><tbody><tr><td>0</td><td><span><a href=\"https://docs.microsoft.com/dotnet/api/system.datetime?view=net-7.0\">System.DateTime</a></span></td><td><span>2009-01-18 00:00:00Z</span></td></tr><tr><td>1</td><td><span><a href=\"https://docs.microsoft.com/dotnet/api/system.int32?view=net-7.0\">System.Int32</a></span></td><td><div class=\"dni-plaintext\"><pre>17</pre></div></td></tr></tbody></table></td></tr></tbody></table></div></details></td></tr><tr><td>18</td><td><details class=\"dni-treeview\"><summary><span class=\"dni-code-hint\"><code>[ 2009/1/19 0:00:00, 97 ]</code></span></summary><div><table><thead><tr></tr></thead><tbody><tr><td><i>(values)</i></td><td><table><thead><tr><th><i>index</i></th><th><i>type</i></th><th>value</th></tr></thead><tbody><tr><td>0</td><td><span><a href=\"https://docs.microsoft.com/dotnet/api/system.datetime?view=net-7.0\">System.DateTime</a></span></td><td><span>2009-01-19 00:00:00Z</span></td></tr><tr><td>1</td><td><span><a href=\"https://docs.microsoft.com/dotnet/api/system.int32?view=net-7.0\">System.Int32</a></span></td><td><div class=\"dni-plaintext\"><pre>97</pre></div></td></tr></tbody></table></td></tr></tbody></table></div></details></td></tr><tr><td>19</td><td><details class=\"dni-treeview\"><summary><span class=\"dni-code-hint\"><code>[ 2009/1/20 0:00:00, 51 ]</code></span></summary><div><table><thead><tr></tr></thead><tbody><tr><td><i>(values)</i></td><td><table><thead><tr><th><i>index</i></th><th><i>type</i></th><th>value</th></tr></thead><tbody><tr><td>0</td><td><span><a href=\"https://docs.microsoft.com/dotnet/api/system.datetime?view=net-7.0\">System.DateTime</a></span></td><td><span>2009-01-20 00:00:00Z</span></td></tr><tr><td>1</td><td><span><a href=\"https://docs.microsoft.com/dotnet/api/system.int32?view=net-7.0\">System.Int32</a></span></td><td><div class=\"dni-plaintext\"><pre>51</pre></div></td></tr></tbody></table></td></tr></tbody></table></div></details></td></tr><tr><td colspan=\"2\"><i>... (more)</i></td></tr></tbody></table></td></tr></tbody></table></div></details></td></tr></tbody></table></div></details><style>\r\n",
       ".dni-code-hint {\r\n",
       "    font-style: italic;\r\n",
       "    overflow: hidden;\r\n",
       "    white-space: nowrap;\r\n",
       "}\r\n",
       ".dni-treeview {\r\n",
       "    white-space: nowrap;\r\n",
       "}\r\n",
       ".dni-treeview td {\r\n",
       "    vertical-align: top;\r\n",
       "    text-align: start;\r\n",
       "}\r\n",
       "details.dni-treeview {\r\n",
       "    padding-left: 1em;\r\n",
       "}\r\n",
       "table td {\r\n",
       "    text-align: start;\r\n",
       "}\r\n",
       "table tr { \r\n",
       "    vertical-align: top; \r\n",
       "    margin: 0em 0px;\r\n",
       "}\r\n",
       "table tr td pre \r\n",
       "{ \r\n",
       "    vertical-align: top !important; \r\n",
       "    margin: 0em 0px !important;\r\n",
       "} \r\n",
       "table th {\r\n",
       "    text-align: start;\r\n",
       "}\r\n",
       "</style>"
      ]
     },
     "execution_count": 20,
     "metadata": {},
     "output_type": "execute_result"
    }
   ],
   "source": [
    "using Microsoft.Data.Analysis;\n",
    "\n",
    "var start = new DateTime(2009,1,1);\n",
    "Random rand = new Random();\n",
    "var numDataPoint = 200;\n",
    "PrimitiveDataFrameColumn<DateTime> date = new PrimitiveDataFrameColumn<DateTime>(\"Date\", \n",
    "    Enumerable.Range(0, numDataPoint)\n",
    "          .Select(offset => start.AddDays(offset))\n",
    "          .ToList()); \n",
    "PrimitiveDataFrameColumn<int> data = new PrimitiveDataFrameColumn<int>(\"Data\",\n",
    "    Enumerable.Range(0, numDataPoint)\n",
    "                        .Select(r => rand.Next(100))\n",
    "                        .ToList()); \n",
    "var df = new DataFrame(date, data);\n",
    "df"
   ]
  },
  {
   "cell_type": "code",
   "execution_count": 23,
   "id": "99d71ee9",
   "metadata": {},
   "outputs": [
    {
     "name": "stderr",
     "output_type": "stream",
     "text": [
      "\r\n",
      "(7,9): error CS0246: 未能找到类型或命名空间名“Graph”(是否缺少 using 指令或程序集引用?)\r\n",
      "\r\n",
      "(9,13): error CS0103: 当前上下文中不存在名称“df1”\r\n",
      "\r\n",
      "(10,13): error CS0103: 当前上下文中不存在名称“df1”\r\n",
      "\r\n",
      "(16,16): error CS0246: 未能找到类型或命名空间名“Graph”(是否缺少 using 指令或程序集引用?)\r\n",
      "\r\n",
      "(19,16): error CS0246: 未能找到类型或命名空间名“Graph”(是否缺少 using 指令或程序集引用?)\r\n",
      "\r\n"
     ]
    },
    {
     "ename": "Error",
     "evalue": "compilation error",
     "output_type": "error",
     "traceback": []
    }
   ],
   "source": [
    "using XPlot.Plotly;\n",
    "using Microsoft.Data.Analysis;\n",
    "using System.Linq;\n",
    "using Microsoft.AspNetCore.Html;\n",
    "\n",
    "var chart1 = Chart.Plot(\n",
    "    new Graph.Scatter\n",
    "    {\n",
    "        x = df1.Columns[\"Date\"],\n",
    "        y = df1.Columns[\"Open\"],        \n",
    "        mode = \"lines+markers\"\n",
    "    }\n",
    ");\n",
    "var chart1_layout = new Layout.Layout{\n",
    "    title=\"Open Price\",\n",
    "    xaxis =new Graph.Xaxis{\n",
    "        title = \"Date\"\n",
    "        },\n",
    "    yaxis =new Graph.Yaxis{\n",
    "    title = \"Price (USD)\"\n",
    "        }           \n",
    "    };\n",
    "chart1.WithLayout(chart1_layout);\n",
    "chart1"
   ]
  },
  {
   "cell_type": "code",
   "execution_count": null,
   "id": "e244775e",
   "metadata": {},
   "outputs": [],
   "source": []
  }
 ],
 "metadata": {
  "kernelspec": {
   "display_name": ".NET (C#)",
   "language": "C#",
   "name": ".net-csharp"
  },
  "language_info": {
   "file_extension": ".cs",
   "mimetype": "text/x-csharp",
   "name": "C#",
   "pygments_lexer": "csharp",
   "version": "12.0"
  }
 },
 "nbformat": 4,
 "nbformat_minor": 5
}
