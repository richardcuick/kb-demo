{
 "cells": [
  {
   "cell_type": "markdown",
   "id": "c5dcb109-8b31-4d68-919f-97af379f75db",
   "metadata": {},
   "source": [
    "# AngouriMath Sample"
   ]
  },
  {
   "cell_type": "code",
   "execution_count": null,
   "id": "14a1b93a-53ef-47e6-8acf-842eca8e2a16",
   "metadata": {},
   "outputs": [],
   "source": []
  }
 ],
 "metadata": {
  "kernelspec": {
   "display_name": ".NET (C#)",
   "language": "C#",
   "name": ".net-csharp"
  },
  "language_info": {
   "file_extension": ".cs",
   "mimetype": "text/x-csharp",
   "name": "C#",
   "pygments_lexer": "csharp",
   "version": "12.0"
  }
 },
 "nbformat": 4,
 "nbformat_minor": 5
}
