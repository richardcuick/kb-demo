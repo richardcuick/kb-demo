{
 "cells": [
  {
   "cell_type": "markdown",
   "id": "04a91ee4-4c48-42fd-aab8-c06d448ddfa7",
   "metadata": {},
   "source": [
    "# LaTex OCR"
   ]
  },
  {
   "cell_type": "markdown",
   "id": "89af654c-226e-4ed3-bacf-273132d29588",
   "metadata": {},
   "source": [
    "* Website: [https://lukas-blecher.github.io/LaTeX-OCR/](https://lukas-blecher.github.io/LaTeX-OCR/)\n",
    "* Github Repo: [https://github.com/lukas-blecher/LaTeX-OCR](https://github.com/lukas-blecher/LaTeX-OCR)"
   ]
  },
  {
   "cell_type": "code",
   "execution_count": null,
   "id": "497e967a-de6b-4663-9401-2d5e37385d65",
   "metadata": {},
   "outputs": [],
   "source": [
    "!pip install \"pix2tex[gui]\""
   ]
  },
  {
   "cell_type": "code",
   "execution_count": 3,
   "id": "8c4aa037-516a-4583-8aef-743c4624042f",
   "metadata": {
    "tags": []
   },
   "outputs": [
    {
     "name": "stdout",
     "output_type": "stream",
     "text": [
      "S=\\int_{x}\\left\\{\\frac{1}{2}\\sum_{a}\\partial^{\\mu}\\chi_{a}\\partial_{\\mu}\\chi_{a}+V(\\rho)\\right\\},\\right\\}\n"
     ]
    }
   ],
   "source": [
    "from PIL import Image\n",
    "from pix2tex.cli import LatexOCR\n",
    "\n",
    "img = Image.open('LaTex_OCR_Input_Image.png')\n",
    "model = LatexOCR()\n",
    "print(model(img))"
   ]
  },
  {
   "cell_type": "code",
   "execution_count": 6,
   "id": "8ef00bf3-7948-439e-b651-5ea8fb7ed75b",
   "metadata": {
    "tags": []
   },
   "outputs": [
    {
     "data": {
      "image/png": "[encoded data removed]",
      "text/plain": [
       "<IPython.core.display.Image object>"
      ]
     },
     "execution_count": 6,
     "metadata": {},
     "output_type": "execute_result"
    }
   ],
   "source": [
    "from IPython.display import Image\n",
    "Image(filename='LaTex_OCR_Input_Image.png') "
   ]
  },
  {
   "cell_type": "code",
   "execution_count": 17,
   "id": "e25c4818-3e3b-4914-bbfc-6d1ac4cae411",
   "metadata": {
    "tags": []
   },
   "outputs": [
    {
     "name": "stdout",
     "output_type": "stream",
     "text": [
      "Requirement already satisfied: latex2sympy2 in c:\\users\\richa\\anaconda3\\lib\\site-packages (1.9.1)\n",
      "Requirement already satisfied: sympy>=1.4 in c:\\users\\richa\\anaconda3\\lib\\site-packages (from latex2sympy2) (1.11.1)\n",
      "Requirement already satisfied: antlr4-python3-runtime==4.7.2 in c:\\users\\richa\\anaconda3\\lib\\site-packages (from latex2sympy2) (4.7.2)\n",
      "Requirement already satisfied: mpmath>=0.19 in c:\\users\\richa\\anaconda3\\lib\\site-packages (from sympy>=1.4->latex2sympy2) (1.3.0)\n"
     ]
    }
   ],
   "source": [
    "!pip install latex2sympy2"
   ]
  },
  {
   "cell_type": "code",
   "execution_count": 13,
   "id": "5bc3091f-2fc5-4cf1-84b9-61cd85dcbc81",
   "metadata": {
    "tags": []
   },
   "outputs": [
    {
     "data": {
      "text/plain": [
       "'2 x + 1'"
      ]
     },
     "execution_count": 13,
     "metadata": {},
     "output_type": "execute_result"
    }
   ],
   "source": [
    "from latex2sympy2 import latex2sympy, latex2latex\n",
    "\n",
    "tex = r\"\\frac{d}{dx}(x^{2}+x)\"\n",
    "# Or you can use '\\mathrm{d}' to replace 'd'\n",
    "latex2sympy(tex)\n",
    "# => \"Derivative(x**2 + x, x)\"\n",
    "latex2latex(tex)\n",
    "# => \"2 x + 1\""
   ]
  },
  {
   "cell_type": "markdown",
   "id": "1f1ff6e6-3a58-4617-926d-a8b062b4a3ae",
   "metadata": {},
   "source": [
    "Use ChatGPT to convert Latex to C# source code with prompt: convert the following latex expression to C# function:\n",
    "S=\\int_{x}\\left\\{\\frac{1}{2}\\sum_{a}\\partial^{\\mu}\\chi_{a}\\partial_{\\mu}\\chi_{a}+V(\\rho)\\right\\},\\right\\}\n",
    "\n"
   ]
  },
  {
   "cell_type": "markdown",
   "id": "e736e831-0d2d-4f61-89e3-a2272372f7f1",
   "metadata": {},
   "source": [
    "To convert the given LaTeX expression into a C# function, we first need to understand what the LaTeX expression represents. This expression describes an action \\( S \\) in terms of an integral over a function of \\( \\chi_a \\) and \\( V(\\rho) \\), where \\( \\chi_a \\) seems to be a field that depends on space or spacetime coordinates, and \\( V(\\rho) \\) is some potential that also depends on another variable \\( \\rho \\).\n",
    "\n",
    "The LaTeX expression:\n",
    "\\[ S=\\int_{x}\\left\\{\\frac{1}{2}\\sum_{a}\\partial^{\\mu}\\chi_{a}\\partial_{\\mu}\\chi_{a}+V(\\rho)\\right\\} \\]\n",
    "\n",
    "This expression involves:\n",
    "- An integral over space or spacetime coordinates \\( x \\).\n",
    "- A sum over \\( a \\), which might index different components or fields \\( \\chi_a \\).\n",
    "- A derivative \\( \\partial^\\mu \\) indicating a partial derivative with respect to the spacetime coordinates, suggesting this might be a field theory expression from physics.\n",
    "- A potential \\( V(\\rho) \\), the form of which is unspecified.\n",
    "\n",
    "To convert this into a C# function, we have to make several assumptions due to the abstract nature of the expression:\n",
    "- We assume \\( \\chi_a \\) and \\( V(\\rho) \\) can be represented by functions or methods in C#.\n",
    "- We assume discrete spacetime or spatial coordinates since we cannot directly translate continuous mathematical integrals and derivatives into code without numerical methods.\n",
    "- We need to define the domain of integration and the method of numerical integration.\n",
    "\n",
    "Given these considerations, a C# implementation might focus on the numerical computation of the integral, possibly using a simple method like the trapezoidal rule, and finite differences for derivatives. Without specific forms for \\( \\chi_a \\) and \\( V(\\rho) \\), the function might look something like this in a very generalized form:\n",
    "\n",
    "```csharp\n",
    "double ComputeAction(double[] x, Func<double, double>[] chi, Func<double, double> V, double[] rho)\n",
    "{\n",
    "    double sum = 0.0;\n",
    "    int N = x.Length;\n",
    "    \n",
    "    // Assuming x is discretized spacetime coordinates\n",
    "    // and chi is an array of functions representing different chi_a\n",
    "    // Assuming a simple numerical derivative and midpoint rule for integration\n",
    "    \n",
    "    for (int i = 1; i < N; i++) // Simple numerical integration loop\n",
    "    {\n",
    "        double dx = x[i] - x[i - 1];\n",
    "        double midPoint = (x[i] + x[i - 1]) / 2;\n",
    "        double sumChi = 0.0;\n",
    "        \n",
    "        foreach (var chiFunc in chi)\n",
    "        {\n",
    "            // Simple finite difference for derivative, assuming uniform spacing\n",
    "            double derivative = (chiFunc(x[i]) - chiFunc(x[i - 1])) / dx;\n",
    "            sumChi += 0.5 * derivative * derivative;\n",
    "        }\n",
    "        \n",
    "        sum += (sumChi + V(rho[i])) * dx; // Assuming rho is somehow related to x or chi, needs specification\n",
    "    }\n",
    "    \n",
    "    return sum;\n",
    "}\n",
    "```\n",
    "\n",
    "This function is highly speculative and assumes:\n",
    "- `x` is an array representing discretized spacetime or spatial coordinates.\n",
    "- `chi` is an array of functions, each corresponding to \\( \\chi_a(x) \\).\n",
    "- `V` is a function representing the potential \\( V(\\rho) \\).\n",
    "- `rho` is an array with values that `V` depends on, which must be related to `x` or the fields \\( \\chi_a \\) somehow.\n",
    "\n",
    "Actual implementation would require more specific details about the physical system being modeled, the form of \\( \\chi_a \\) and \\( V(\\rho) \\), and how \\( \\rho \\) is related to the other quantities."
   ]
  },
  {
   "cell_type": "code",
   "execution_count": null,
   "id": "262b377d-c6ef-41f3-9158-9a72e45fe3a9",
   "metadata": {},
   "outputs": [],
   "source": []
  }
 ],
 "metadata": {
  "kernelspec": {
   "display_name": "Python 3 (ipykernel)",
   "language": "python",
   "name": "python3"
  },
  "language_info": {
   "codemirror_mode": {
    "name": "ipython",
    "version": 3
   },
   "file_extension": ".py",
   "mimetype": "text/x-python",
   "name": "python",
   "nbconvert_exporter": "python",
   "pygments_lexer": "ipython3",
   "version": "3.11.5"
  }
 },
 "nbformat": 4,
 "nbformat_minor": 5
}
