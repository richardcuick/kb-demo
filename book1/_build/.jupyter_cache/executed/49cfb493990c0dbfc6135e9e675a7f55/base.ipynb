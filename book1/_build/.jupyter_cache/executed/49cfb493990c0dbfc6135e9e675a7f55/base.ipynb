{
 "cells": [
  {
   "cell_type": "code",
   "execution_count": 1,
   "id": "d78f0f91",
   "metadata": {},
   "outputs": [
    {
     "name": "stderr",
     "output_type": "stream",
     "text": [
      "\n",
      "            Error: MATLAB Kernel for Jupyter was unable to find the notebook server from which it was spawned!\n",
      "\n",
      "            Resolution: Please relaunch kernel from JupyterLab or Classic Jupyter Notebook.\n",
      "            "
     ]
    }
   ],
   "source": [
    "format loose\n",
    "for i=1:2\n",
    "    i+1\n",
    "end"
   ]
  },
  {
   "cell_type": "code",
   "execution_count": 2,
   "id": "edfd1cd8",
   "metadata": {},
   "outputs": [
    {
     "name": "stderr",
     "output_type": "stream",
     "text": [
      "\n",
      "            Error: MATLAB Kernel for Jupyter was unable to find the notebook server from which it was spawned!\n",
      "\n",
      "            Resolution: Please relaunch kernel from JupyterLab or Classic Jupyter Notebook.\n",
      "            "
     ]
    }
   ],
   "source": [
    "format compact\n",
    "for i=1:2\n",
    "    i+1\n",
    "end"
   ]
  },
  {
   "cell_type": "code",
   "execution_count": 3,
   "id": "0ee99a10",
   "metadata": {},
   "outputs": [
    {
     "name": "stderr",
     "output_type": "stream",
     "text": [
      "\n",
      "            Error: MATLAB Kernel for Jupyter was unable to find the notebook server from which it was spawned!\n",
      "\n",
      "            Resolution: Please relaunch kernel from JupyterLab or Classic Jupyter Notebook.\n",
      "            "
     ]
    }
   ],
   "source": [
    "help sin"
   ]
  },
  {
   "cell_type": "code",
   "execution_count": 4,
   "id": "03a98b34",
   "metadata": {},
   "outputs": [
    {
     "name": "stderr",
     "output_type": "stream",
     "text": [
      "\n",
      "            Error: MATLAB Kernel for Jupyter was unable to find the notebook server from which it was spawned!\n",
      "\n",
      "            Resolution: Please relaunch kernel from JupyterLab or Classic Jupyter Notebook.\n",
      "            "
     ]
    }
   ],
   "source": [
    "?sin"
   ]
  },
  {
   "cell_type": "code",
   "execution_count": 5,
   "id": "fe5a20cf",
   "metadata": {},
   "outputs": [
    {
     "name": "stderr",
     "output_type": "stream",
     "text": [
      "\n",
      "            Error: MATLAB Kernel for Jupyter was unable to find the notebook server from which it was spawned!\n",
      "\n",
      "            Resolution: Please relaunch kernel from JupyterLab or Classic Jupyter Notebook.\n",
      "            "
     ]
    }
   ],
   "source": [
    "doc sin"
   ]
  },
  {
   "cell_type": "code",
   "execution_count": 6,
   "id": "0c1f0721",
   "metadata": {},
   "outputs": [
    {
     "name": "stderr",
     "output_type": "stream",
     "text": [
      "\n",
      "            Error: MATLAB Kernel for Jupyter was unable to find the notebook server from which it was spawned!\n",
      "\n",
      "            Resolution: Please relaunch kernel from JupyterLab or Classic Jupyter Notebook.\n",
      "            "
     ]
    }
   ],
   "source": [
    "tx = linspace (-8, 8, 41);\n",
    "ty = tx;\n",
    "[xx, yy] = meshgrid (tx, ty);\n",
    "r = sqrt (xx .^ 2 + yy .^ 2) + eps;\n",
    "tz = sin (r) ./ r;"
   ]
  },
  {
   "cell_type": "code",
   "execution_count": 7,
   "id": "045a41fc",
   "metadata": {},
   "outputs": [
    {
     "name": "stderr",
     "output_type": "stream",
     "text": [
      "\n",
      "            Error: MATLAB Kernel for Jupyter was unable to find the notebook server from which it was spawned!\n",
      "\n",
      "            Resolution: Please relaunch kernel from JupyterLab or Classic Jupyter Notebook.\n",
      "            "
     ]
    }
   ],
   "source": [
    "%plot inline\n",
    "mesh(tx, ty, tz);"
   ]
  },
  {
   "cell_type": "code",
   "execution_count": 8,
   "id": "796d58aa",
   "metadata": {},
   "outputs": [
    {
     "name": "stderr",
     "output_type": "stream",
     "text": [
      "\n",
      "            Error: MATLAB Kernel for Jupyter was unable to find the notebook server from which it was spawned!\n",
      "\n",
      "            Resolution: Please relaunch kernel from JupyterLab or Classic Jupyter Notebook.\n",
      "            "
     ]
    }
   ],
   "source": [
    "%plot native\n",
    "mesh(tx, ty, tz);"
   ]
  },
  {
   "cell_type": "code",
   "execution_count": 9,
   "id": "670eeaf8",
   "metadata": {},
   "outputs": [
    {
     "name": "stderr",
     "output_type": "stream",
     "text": [
      "\n",
      "            Error: MATLAB Kernel for Jupyter was unable to find the notebook server from which it was spawned!\n",
      "\n",
      "            Resolution: Please relaunch kernel from JupyterLab or Classic Jupyter Notebook.\n",
      "            "
     ]
    }
   ],
   "source": [
    "close all"
   ]
  },
  {
   "cell_type": "code",
   "execution_count": 10,
   "id": "2ea81144",
   "metadata": {},
   "outputs": [
    {
     "name": "stderr",
     "output_type": "stream",
     "text": [
      "\n",
      "            Error: MATLAB Kernel for Jupyter was unable to find the notebook server from which it was spawned!\n",
      "\n",
      "            Resolution: Please relaunch kernel from JupyterLab or Classic Jupyter Notebook.\n",
      "            "
     ]
    }
   ],
   "source": [
    "?%plot"
   ]
  },
  {
   "cell_type": "code",
   "execution_count": 11,
   "id": "822feb99",
   "metadata": {},
   "outputs": [
    {
     "name": "stderr",
     "output_type": "stream",
     "text": [
      "\n",
      "            Error: MATLAB Kernel for Jupyter was unable to find the notebook server from which it was spawned!\n",
      "\n",
      "            Resolution: Please relaunch kernel from JupyterLab or Classic Jupyter Notebook.\n",
      "            "
     ]
    }
   ],
   "source": [
    "f=@(x) x^3+x-1;"
   ]
  },
  {
   "cell_type": "code",
   "execution_count": 12,
   "id": "d4060fbc",
   "metadata": {},
   "outputs": [
    {
     "name": "stderr",
     "output_type": "stream",
     "text": [
      "\n",
      "            Error: MATLAB Kernel for Jupyter was unable to find the notebook server from which it was spawned!\n",
      "\n",
      "            Resolution: Please relaunch kernel from JupyterLab or Classic Jupyter Notebook.\n",
      "            "
     ]
    }
   ],
   "source": [
    "fzero(f,[0 1],optimset('Display','iter'))"
   ]
  },
  {
   "cell_type": "code",
   "execution_count": 13,
   "id": "d3e18dd8",
   "metadata": {},
   "outputs": [
    {
     "name": "stderr",
     "output_type": "stream",
     "text": [
      "\n",
      "            Error: MATLAB Kernel for Jupyter was unable to find the notebook server from which it was spawned!\n",
      "\n",
      "            Resolution: Please relaunch kernel from JupyterLab or Classic Jupyter Notebook.\n",
      "            "
     ]
    }
   ],
   "source": [
    "function p = multi_line_func(a,b)\n",
    "    a = a+1;\n",
    "    b = b+1;\n",
    "    p = a+b;\n",
    "end"
   ]
  },
  {
   "cell_type": "code",
   "execution_count": 14,
   "id": "3d496a9f",
   "metadata": {},
   "outputs": [
    {
     "name": "stderr",
     "output_type": "stream",
     "text": [
      "\n",
      "            Error: MATLAB Kernel for Jupyter was unable to find the notebook server from which it was spawned!\n",
      "\n",
      "            Resolution: Please relaunch kernel from JupyterLab or Classic Jupyter Notebook.\n",
      "            "
     ]
    }
   ],
   "source": [
    "%%file multi_line_func.m\n",
    "\n",
    "function p = multi_line_func(a,b)\n",
    "    % in-file comments can be added like this\n",
    "    a = a+1;\n",
    "    b = b+1;\n",
    "    p = a+b;\n",
    "end"
   ]
  },
  {
   "cell_type": "code",
   "execution_count": 15,
   "id": "56274075",
   "metadata": {},
   "outputs": [
    {
     "name": "stderr",
     "output_type": "stream",
     "text": [
      "\n",
      "            Error: MATLAB Kernel for Jupyter was unable to find the notebook server from which it was spawned!\n",
      "\n",
      "            Resolution: Please relaunch kernel from JupyterLab or Classic Jupyter Notebook.\n",
      "            "
     ]
    }
   ],
   "source": [
    "multi_line_func(1,1)"
   ]
  },
  {
   "cell_type": "code",
   "execution_count": null,
   "id": "658e5cd6",
   "metadata": {},
   "outputs": [],
   "source": []
  }
 ],
 "metadata": {
  "kernelspec": {
   "display_name": "MATLAB Kernel",
   "language": "matlab",
   "name": "jupyter_matlab_kernel"
  },
  "language_info": {
   "file_extension": ".m",
   "mimetype": "text/x-matlab",
   "name": "matlab"
  }
 },
 "nbformat": 4,
 "nbformat_minor": 5
}