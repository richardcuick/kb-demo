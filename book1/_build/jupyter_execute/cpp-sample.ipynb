{
 "cells": [
  {
   "cell_type": "code",
   "execution_count": null,
   "id": "d96925de-e0c3-48e2-be8c-3f33c6b13f81",
   "metadata": {
    "tags": []
   },
   "outputs": [],
   "source": [
    "?std::vector"
   ]
  },
  {
   "cell_type": "code",
   "execution_count": null,
   "id": "ddaef9e6-1bea-4176-9923-852c09bed93d",
   "metadata": {
    "tags": []
   },
   "outputs": [],
   "source": [
    "#include<iostream>\n",
    "\n",
    "std::cout<<\"Hello, World!\"<<std::endl;"
   ]
  },
  {
   "cell_type": "code",
   "execution_count": null,
   "id": "1c478a36-44dd-43b6-8ceb-57111759e51b",
   "metadata": {},
   "outputs": [],
   "source": []
  }
 ],
 "metadata": {
  "kernelspec": {
   "display_name": "C++ 14",
   "language": "cpp",
   "name": "cpp14"
  },
  "language_info": {
   "name": ""
  }
 },
 "nbformat": 4,
 "nbformat_minor": 5
}