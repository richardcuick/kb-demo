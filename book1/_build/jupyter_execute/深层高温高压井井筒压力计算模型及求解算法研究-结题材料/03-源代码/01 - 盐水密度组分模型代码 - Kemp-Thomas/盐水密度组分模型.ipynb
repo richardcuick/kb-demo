{
 "cells": [
  {
   "cell_type": "markdown",
   "id": "b8f89cb6-7bee-4150-852e-d59b160149c7",
   "metadata": {
    "tags": []
   },
   "source": [
    "# 盐水密度组分模型"
   ]
  },
  {
   "cell_type": "code",
   "execution_count": 1,
   "id": "23ca2ad2-939f-4e40-8ac6-af518b614ba9",
   "metadata": {
    "tags": []
   },
   "outputs": [],
   "source": [
    "clear all;close all;clc;\n",
    "%%\n",
    "T=297; % 流体温度，K\n",
    "P_0=0.1; % 大气压，MPa\n",
    "P=0.1; % 流体压力，MPa\n",
    "delta_P=P-P_0; % 压差，MPa\n",
    "\n",
    "M_CaCl2=40+35.5*2; % 氯化钙的摩尔质量，g/mol\n",
    "M_CaBr2=40+80*2; % 氯化钙的摩尔质量，g/mol\n",
    "\n",
    "v_Ca_1=1; % 钙的化学计量数（总溶液）\n",
    "v_Cl_1=1; % 氯的化学计量数（总溶液）\n",
    "v_Br_1=1; % 溴的化学计量数（总溶液）\n",
    "v_Ca_2=1; % 钙的化学计量数（总溶液中的氯化钙溶液部分）\n",
    "v_Cl_2=2; % 氯的化学计量数（总溶液中的氯化钙溶液部分）\n",
    "v_Ca_3=1; % 钙的化学计量数（总溶液中的溴化钙溶液部分）\n",
    "v_Br_3=2; % 溴的化学计量数（总溶液中的溴化钙溶液部分）\n",
    "\n",
    "z_Ca=2; % 钙离子电荷数\n",
    "z_Cl=1; % 氯离子电荷数\n",
    "z_Br=1; % 溴离子电荷数\n",
    "\n",
    "rho_w=997.3; % 水的密度，kg/m^3\n",
    "\n",
    "%%\n",
    "F_CaCl2=0.24; % 氯化钙的质量分数\n",
    "F_CaBr2=0.253; % 溴化钙的质量分数\n",
    "F_H2O=1-F_CaCl2-F_CaBr2; % 水的质量分数\n",
    "\n",
    "b_CaCl2=(1000*F_CaCl2)/(M_CaCl2*F_H2O); % 氯化钙的质量摩尔浓度，mol/kg\n",
    "b_CaBr2=(1000*F_CaBr2)/(M_CaBr2*F_H2O); % 溴化钙的质量摩尔浓度，mol/kg\n",
    "\n",
    "b_Ca=b_CaCl2+b_CaBr2; % 钙的质量摩尔浓度，mol/kg\n",
    "b_Cl=2*b_CaCl2; % 氯的质量摩尔浓度，mol/kg\n",
    "b_Br=2*b_CaBr2; % 溴的质量摩尔浓度，mol/kg\n",
    "\n",
    "I=0.5*(b_Ca*2^2+b_Cl*1^2+b_Br*1^2); % 离子强度，mol/kg\n",
    "\n",
    "Av_0=-0.7511;\n",
    "Av_1=5.6658*10^(-6);\n",
    "Av_2=1.5472*10^(-5);\n",
    "Av_3=-4.3457*10^(-8);\n",
    "Av_4=3.2265*10^(-11);\n",
    "Av=1*10^(-6)*exp(Av_0+Av_1*T*delta_P+Av_2*T^2+Av_3*T^2*delta_P+Av_4*T^2*delta_P^2); % 水的德拜-休克尔极限定律斜率，m^3/mol\n",
    "\n",
    "DH=((Av*I^0.5)/(2*(1+I^0.5)))*(v_Ca_1*z_Ca^2+v_Cl_1*z_Cl^2+v_Br_1*z_Br^2); % 摩尔体积计算公式中的德拜-休克尔项，m^3/mol\n",
    "\n",
    "A_CaCl2=[-13.4695*10^(-5),0,48.2352*10^(-10);9.8240*10^(-7),0,-27.4851*10^(-12);-15.7830*10^(-10),1.2488*10^(-12),34.3893*10^(-15)];\n",
    "PHI_V_0_CaCl2=0;\n",
    "for i=1:1:3\n",
    "    for j=1:1:3\n",
    "        PHI_V_0_CaCl2=PHI_V_0_CaCl2+A_CaCl2(i,j)*T^(i-1)*delta_P^(j-1); % 氯化钙的无限稀释表观摩尔体积，m^3/mol\n",
    "    end\n",
    "end\n",
    "\n",
    "A_CaBr2=[-13.6882*10^(-5),0,52.5124*10^(-10);10.5661*10^(-7),0,-28.5866*10^(-12);-16.5140*10^(-10),1.1752*10^(-12),37.3889*10^(-15)];\n",
    "PHI_V_0_CaBr2=0;\n",
    "for i=1:1:3\n",
    "    for j=1:1:3\n",
    "        PHI_V_0_CaBr2=PHI_V_0_CaBr2+A_CaBr2(i,j)*T^(i-1)*delta_P^(j-1); % 溴化钙的无限稀释表观摩尔体积，m^3/mol\n",
    "    end\n",
    "end\n",
    "\n",
    "B_CaCl2=[4.9949*10^(-6),-7.1552*10^(-9),2.8028*10^(-11);-22.6474*10^(-9),0,0;3.3668*10^(-11),0,-2.2953*10^(-8)];\n",
    "B_0_CaCl2=0;\n",
    "for i=1:1:3\n",
    "    for j=1:1:3\n",
    "        if i==3 && j==3\n",
    "            continue;\n",
    "        else\n",
    "            B_0_CaCl2=B_0_CaCl2+B_CaCl2(i,j)*T^(i-1)*delta_P^(j-1);\n",
    "        end\n",
    "    end\n",
    "end\n",
    "\n",
    "B_CaCl2_Ca=B_0_CaCl2+B_CaCl2(3,3)*(0.5*(v_Ca_2*z_Ca^2+v_Cl_2*z_Cl^2)/v_Ca_2)*b_Ca;\n",
    "B_CaCl2_Cl=B_0_CaCl2+B_CaCl2(3,3)*(0.5*(v_Ca_2*z_Ca^2+v_Cl_2*z_Cl^2)/v_Cl_2)*b_Cl;\n",
    "\n",
    "B_CaBr2=[5.8218*10^(-6),-7.4630*10^(-9),2.2843*10^(-11);-25.4804*10^(-9),0,0;3.6141*10^(-11),0,-3.4634*10^(-8)];\n",
    "B_0_CaBr2=0;\n",
    "for i=1:1:3\n",
    "    for j=1:1:3\n",
    "        if i==3 && j==3\n",
    "            continue;\n",
    "        else\n",
    "            B_0_CaBr2=B_0_CaBr2+B_CaBr2(i,j)*T^(i-1)*delta_P^(j-1);\n",
    "        end\n",
    "    end\n",
    "end\n",
    "\n",
    "B_CaBr2_Ca=B_0_CaBr2+B_CaBr2(3,3)*(0.5*(v_Ca_3*z_Ca^2+v_Br_3*z_Br^2)/v_Ca_3)*b_Ca;\n",
    "B_CaBr2_Br=B_0_CaBr2+B_CaBr2(3,3)*(0.5*(v_Ca_3*z_Ca^2+v_Br_3*z_Br^2)/v_Br_3)*b_Br;\n",
    "\n",
    "N_Ca=(z_Ca^2*b_Ca)/(z_Ca^2*b_Ca);\n",
    "N_Cl=(z_Cl^2*b_Cl)/(z_Cl^2*b_Cl+z_Br^2*b_Br);\n",
    "N_Br=(z_Br^2*b_Br)/(z_Cl^2*b_Cl+z_Br^2*b_Br);\n",
    "\n",
    "X3_CaCl2_n=0.5*(v_Cl_2*N_Cl*B_CaCl2_Cl+v_Br_3*N_Br*B_CaBr2_Br)*b_Ca;\n",
    "X3_CaCl2_p=0.5*(v_Ca_2*N_Ca*B_CaCl2_Ca)*b_Cl;\n",
    "X3_CaBr2_n=0.5*(v_Cl_2*N_Cl*B_CaCl2_Cl+v_Br_3*N_Br*B_CaBr2_Br)*b_Ca;\n",
    "X3_CaBr2_p=0.5*(v_Ca_3*N_Ca*B_CaBr2_Ca)*b_Br;\n",
    "\n",
    "X3_CaCl2=X3_CaCl2_n+X3_CaCl2_p;\n",
    "X3_CaBr2=X3_CaBr2_n+X3_CaBr2_p;\n",
    "\n",
    "PHI_V_CaCl2=PHI_V_0_CaCl2+DH+X3_CaCl2;\n",
    "PHI_V_CaBr2=PHI_V_0_CaBr2+DH+X3_CaBr2;\n",
    "\n",
    "rho=(1+b_CaCl2*M_CaCl2/1000+b_CaBr2*M_CaBr2/1000)/(1/rho_w+b_CaCl2*PHI_V_CaCl2+b_CaBr2*PHI_V_CaBr2); % 盐水密度，kg/m^3\n",
    "\n"
   ]
  },
  {
   "cell_type": "code",
   "execution_count": 2,
   "id": "1a499783-4616-4776-87a3-b3e9b8747244",
   "metadata": {
    "tags": []
   },
   "outputs": [
    {
     "data": {
      "text/html": [
       "<html><body><pre>rho = 1.5737e+03</pre></body></html>"
      ],
      "text/plain": [
       "rho = 1.5737e+03"
      ]
     },
     "execution_count": 2,
     "metadata": {},
     "output_type": "execute_result"
    }
   ],
   "source": [
    "rho"
   ]
  },
  {
   "cell_type": "code",
   "execution_count": null,
   "id": "55bb614c-0afe-4ba4-b82e-1a75bf77321c",
   "metadata": {},
   "outputs": [],
   "source": []
  }
 ],
 "metadata": {
  "kernelspec": {
   "display_name": "MATLAB Kernel",
   "language": "matlab",
   "name": "jupyter_matlab_kernel"
  },
  "language_info": {
   "file_extension": ".m",
   "mimetype": "text/x-matlab",
   "name": "matlab"
  }
 },
 "nbformat": 4,
 "nbformat_minor": 5
}