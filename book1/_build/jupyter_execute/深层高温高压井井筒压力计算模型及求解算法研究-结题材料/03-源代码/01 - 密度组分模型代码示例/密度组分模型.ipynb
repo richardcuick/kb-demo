{
 "cells": [
  {
   "cell_type": "code",
   "execution_count": 6,
   "id": "08380393-1409-4a0b-bd19-dd3127fb3f38",
   "metadata": {
    "tags": []
   },
   "outputs": [],
   "source": [
    "clear all;clc;close all\n",
    "\n",
    "cd(\"C:\\@richardcuick\\kb-demo\\book1\\深层高温高压井井筒压力计算模型及求解算法研究-结题材料\\03-源代码\\01 - 密度组分模型代码示例\")\n",
    "\n",
    "% 计算目标温度、压力下的钻井液密度\n",
    "% 输入参数：目标温度T、目标压力P、油水比OWR、盐度SaltContent、油相类型OilType\n",
    "% 输出参数：钻井液密度ρl\n",
    "\n",
    "T=100;      % 目标温度，℃\n",
    "P=30*10^6;  % 目标压力，Pa\n",
    "\n",
    "fc=0.03;    % 化学添加剂体积分数\n",
    "rho_c=1030; % 化学添加剂密度，kg/m^3\n",
    "fs=0.03;    % 固相体积分数\n",
    "rho_s=2500; % 固相密度，kg/m^3\n",
    "fl=1-fc-fs; % 液相体积分数=1-化学添加剂体积分数-固相体积分数\n",
    "OWR=0/100;  % OWR=0/100表示纯水基，OWR=20/100表示油水比为20和80，OWR=100/0表示纯油基\n",
    "fo=OWR*fl;  % 油相绝对体积分数\n",
    "fw=(1-OWR)*fl;  % 水相绝对体积分数\n",
    "\n",
    "T_0=20;     % 参考温度，℃\n",
    "P_0=101325; % 参考压力，Pa\n",
    "\n",
    "SaltContent=10;    % 盐度（重量，wt%），SaltContent=0表示纯水\n",
    "rho_b_0=Density_Brine(T_0,P_0,SaltContent); % 求解参考温度和压力下清水及任意盐度下盐水的密度，kg/m^3\n",
    "\n",
    "OilType=1;  % 取值为1,2,3；OilType=1表示柴油、OilType=2表示矿物油、OilType=3表示合成有机物\n",
    "rho_o_0=Density_Oil(T_0,P_0,OilType);   % 求解参考温度和压力下油相密度，kg/m^3\n",
    "\n",
    "rho_b=Density_Brine(T,P,SaltContent);   % 目标温度、压力下的盐水密度，kg/m^3\n",
    "rho_o=Density_Oil(T,P,OilType);         % 目标温度、压力下的油相密度，kg/m^3\n",
    "\n",
    "rho_l=(rho_o_0*fo+rho_b_0*fw+rho_s*fs+rho_c*fc)/(1+fo*(rho_o_0/rho_o)+fw*(rho_b_0/rho_b-1));    % 目标温度、压力下的钻井液密度，kg/m^3"
   ]
  },
  {
   "cell_type": "code",
   "execution_count": 7,
   "id": "d2f8de2a-2864-4edd-a857-86d23d282144",
   "metadata": {
    "tags": []
   },
   "outputs": [
    {
     "data": {
      "text/html": [
       "<html><body><pre>rho = 1.5737e+03</pre></body></html>"
      ],
      "text/plain": [
       "rho = 1.5737e+03"
      ]
     },
     "execution_count": 7,
     "metadata": {},
     "output_type": "execute_result"
    }
   ],
   "source": [
    "rho"
   ]
  },
  {
   "cell_type": "code",
   "execution_count": null,
   "id": "a3210a3e-a436-4dac-9642-b26e57de5302",
   "metadata": {},
   "outputs": [],
   "source": []
  }
 ],
 "metadata": {
  "kernelspec": {
   "display_name": "MATLAB Kernel",
   "language": "matlab",
   "name": "jupyter_matlab_kernel"
  },
  "language_info": {
   "file_extension": ".m",
   "mimetype": "text/x-matlab",
   "name": "matlab"
  }
 },
 "nbformat": 4,
 "nbformat_minor": 5
}